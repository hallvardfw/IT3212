{
 "cells": [
  {
   "cell_type": "code",
   "execution_count": 16,
   "metadata": {},
   "outputs": [
    {
     "ename": "ImportError",
     "evalue": "cannot import name 'LabelEncoder' from 'sklearn.decomposition' (/Users/kacperkreczko/Desktop/Datadrevet/IT3212/.venv/lib/python3.12/site-packages/sklearn/decomposition/__init__.py)",
     "output_type": "error",
     "traceback": [
      "\u001b[0;31m---------------------------------------------------------------------------\u001b[0m",
      "\u001b[0;31mImportError\u001b[0m                               Traceback (most recent call last)",
      "Cell \u001b[0;32mIn[16], line 6\u001b[0m\n\u001b[1;32m      4\u001b[0m \u001b[38;5;28;01mfrom\u001b[39;00m \u001b[38;5;21;01mmatplotlib\u001b[39;00m\u001b[38;5;21;01m.\u001b[39;00m\u001b[38;5;21;01mcbook\u001b[39;00m \u001b[38;5;28;01mimport\u001b[39;00m boxplot_stats\n\u001b[1;32m      5\u001b[0m \u001b[38;5;28;01mfrom\u001b[39;00m \u001b[38;5;21;01msklearn\u001b[39;00m\u001b[38;5;21;01m.\u001b[39;00m\u001b[38;5;21;01mpreprocessing\u001b[39;00m \u001b[38;5;28;01mimport\u001b[39;00m StandardScaler\n\u001b[0;32m----> 6\u001b[0m \u001b[38;5;28;01mfrom\u001b[39;00m \u001b[38;5;21;01msklearn\u001b[39;00m\u001b[38;5;21;01m.\u001b[39;00m\u001b[38;5;21;01mdecomposition\u001b[39;00m \u001b[38;5;28;01mimport\u001b[39;00m LabelEncoder\n\u001b[1;32m      7\u001b[0m \u001b[38;5;28;01mimport\u001b[39;00m \u001b[38;5;21;01mpprint\u001b[39;00m\n\u001b[1;32m      8\u001b[0m \u001b[38;5;28;01mimport\u001b[39;00m \u001b[38;5;21;01mscipy\u001b[39;00m\n",
      "\u001b[0;31mImportError\u001b[0m: cannot import name 'LabelEncoder' from 'sklearn.decomposition' (/Users/kacperkreczko/Desktop/Datadrevet/IT3212/.venv/lib/python3.12/site-packages/sklearn/decomposition/__init__.py)"
     ]
    }
   ],
   "source": [
    "import pandas as pd\n",
    "import numpy as np\n",
    "import matplotlib.pyplot as plt\n",
    "from matplotlib.cbook import boxplot_stats\n",
    "from sklearn.preprocessing import StandardScaler\n",
    "import pprint\n",
    "import scipy"
   ]
  },
  {
   "cell_type": "markdown",
   "metadata": {},
   "source": [
    "# Task 1: Data Exploration"
   ]
  },
  {
   "cell_type": "markdown",
   "metadata": {},
   "source": [
    "Read data into csv"
   ]
  },
  {
   "cell_type": "code",
   "execution_count": 21,
   "metadata": {},
   "outputs": [],
   "source": [
    "df = pd.read_csv(\"./electricity-consumption-raw.csv\")\n"
   ]
  },
  {
   "cell_type": "markdown",
   "metadata": {},
   "source": [
    "Display shape & 10 first rows"
   ]
  },
  {
   "cell_type": "code",
   "execution_count": 22,
   "metadata": {},
   "outputs": [
    {
     "name": "stdout",
     "output_type": "stream",
     "text": [
      "(1899312, 4)\n"
     ]
    },
    {
     "data": {
      "text/html": [
       "<div>\n",
       "<style scoped>\n",
       "    .dataframe tbody tr th:only-of-type {\n",
       "        vertical-align: middle;\n",
       "    }\n",
       "\n",
       "    .dataframe tbody tr th {\n",
       "        vertical-align: top;\n",
       "    }\n",
       "\n",
       "    .dataframe thead th {\n",
       "        text-align: right;\n",
       "    }\n",
       "</style>\n",
       "<table border=\"1\" class=\"dataframe\">\n",
       "  <thead>\n",
       "    <tr style=\"text-align: right;\">\n",
       "      <th></th>\n",
       "      <th>datetime</th>\n",
       "      <th>substation</th>\n",
       "      <th>feeder</th>\n",
       "      <th>consumption</th>\n",
       "    </tr>\n",
       "  </thead>\n",
       "  <tbody>\n",
       "    <tr>\n",
       "      <th>0</th>\n",
       "      <td>2017-01-01T00:00:00</td>\n",
       "      <td>A</td>\n",
       "      <td>A1</td>\n",
       "      <td>NaN</td>\n",
       "    </tr>\n",
       "    <tr>\n",
       "      <th>1</th>\n",
       "      <td>2017-01-01T01:00:00</td>\n",
       "      <td>A</td>\n",
       "      <td>A1</td>\n",
       "      <td>58.0</td>\n",
       "    </tr>\n",
       "    <tr>\n",
       "      <th>2</th>\n",
       "      <td>2017-01-01T02:00:00</td>\n",
       "      <td>A</td>\n",
       "      <td>A1</td>\n",
       "      <td>58.0</td>\n",
       "    </tr>\n",
       "    <tr>\n",
       "      <th>3</th>\n",
       "      <td>2017-01-01T03:00:00</td>\n",
       "      <td>A</td>\n",
       "      <td>A1</td>\n",
       "      <td>58.0</td>\n",
       "    </tr>\n",
       "    <tr>\n",
       "      <th>4</th>\n",
       "      <td>2017-01-01T04:00:00</td>\n",
       "      <td>A</td>\n",
       "      <td>A1</td>\n",
       "      <td>52.0</td>\n",
       "    </tr>\n",
       "    <tr>\n",
       "      <th>5</th>\n",
       "      <td>2017-01-01T05:00:00</td>\n",
       "      <td>A</td>\n",
       "      <td>A1</td>\n",
       "      <td>45.0</td>\n",
       "    </tr>\n",
       "    <tr>\n",
       "      <th>6</th>\n",
       "      <td>2017-01-01T06:00:00</td>\n",
       "      <td>A</td>\n",
       "      <td>A1</td>\n",
       "      <td>42.0</td>\n",
       "    </tr>\n",
       "    <tr>\n",
       "      <th>7</th>\n",
       "      <td>2017-01-01T07:00:00</td>\n",
       "      <td>A</td>\n",
       "      <td>A1</td>\n",
       "      <td>43.0</td>\n",
       "    </tr>\n",
       "    <tr>\n",
       "      <th>8</th>\n",
       "      <td>2017-01-01T08:00:00</td>\n",
       "      <td>A</td>\n",
       "      <td>A1</td>\n",
       "      <td>45.0</td>\n",
       "    </tr>\n",
       "    <tr>\n",
       "      <th>9</th>\n",
       "      <td>2017-01-01T09:00:00</td>\n",
       "      <td>A</td>\n",
       "      <td>A1</td>\n",
       "      <td>44.0</td>\n",
       "    </tr>\n",
       "  </tbody>\n",
       "</table>\n",
       "</div>"
      ],
      "text/plain": [
       "              datetime substation feeder  consumption\n",
       "0  2017-01-01T00:00:00          A     A1          NaN\n",
       "1  2017-01-01T01:00:00          A     A1         58.0\n",
       "2  2017-01-01T02:00:00          A     A1         58.0\n",
       "3  2017-01-01T03:00:00          A     A1         58.0\n",
       "4  2017-01-01T04:00:00          A     A1         52.0\n",
       "5  2017-01-01T05:00:00          A     A1         45.0\n",
       "6  2017-01-01T06:00:00          A     A1         42.0\n",
       "7  2017-01-01T07:00:00          A     A1         43.0\n",
       "8  2017-01-01T08:00:00          A     A1         45.0\n",
       "9  2017-01-01T09:00:00          A     A1         44.0"
      ]
     },
     "execution_count": 22,
     "metadata": {},
     "output_type": "execute_result"
    }
   ],
   "source": [
    "print(df.shape)\n",
    "\n",
    "# 10 first rows\n",
    "df.head(10)"
   ]
  },
  {
   "cell_type": "markdown",
   "metadata": {},
   "source": [
    "From this we can see that they have split the time-series in intervals of 3 hours, and a total of 8 points of data per day.\n",
    "With a dataset containing 22445 rows of data, that gives us "
   ]
  },
  {
   "cell_type": "code",
   "execution_count": 191,
   "metadata": {},
   "outputs": [
    {
     "name": "stdout",
     "output_type": "stream",
     "text": [
      "Days in dataset: 2805.625\n",
      "Weeks in dataset: 400.80357142857144\n",
      "Years in dataset: 7.707760989010989\n"
     ]
    }
   ],
   "source": [
    "points_per_day = 8\n",
    "dataset_in_days = df.shape[0] / points_per_day\n",
    "\n",
    "print(f\"Days in dataset: {dataset_in_days}\")\n",
    "\n",
    "dataset_in_weeks = dataset_in_days / 7 # 7 days per week\n",
    "\n",
    "print(f\"Weeks in dataset: {dataset_in_weeks}\")\n",
    "\n",
    "dataset_in_years = dataset_in_weeks / 52 # 52 weeks in a year\n",
    "\n",
    "print(f\"Years in dataset: {dataset_in_years}\")\n"
   ]
  },
  {
   "cell_type": "markdown",
   "metadata": {},
   "source": [
    "Creating statistics of the dataset, for each column"
   ]
  },
  {
   "cell_type": "code",
   "execution_count": 258,
   "metadata": {},
   "outputs": [
    {
     "data": {
      "text/html": [
       "<div>\n",
       "<style scoped>\n",
       "    .dataframe tbody tr th:only-of-type {\n",
       "        vertical-align: middle;\n",
       "    }\n",
       "\n",
       "    .dataframe tbody tr th {\n",
       "        vertical-align: top;\n",
       "    }\n",
       "\n",
       "    .dataframe thead th {\n",
       "        text-align: right;\n",
       "    }\n",
       "</style>\n",
       "<table border=\"1\" class=\"dataframe\">\n",
       "  <thead>\n",
       "    <tr style=\"text-align: right;\">\n",
       "      <th></th>\n",
       "      <th>consumption</th>\n",
       "    </tr>\n",
       "  </thead>\n",
       "  <tbody>\n",
       "    <tr>\n",
       "      <th>count</th>\n",
       "      <td>1.848947e+06</td>\n",
       "    </tr>\n",
       "    <tr>\n",
       "      <th>mean</th>\n",
       "      <td>1.018811e+02</td>\n",
       "    </tr>\n",
       "    <tr>\n",
       "      <th>std</th>\n",
       "      <td>6.286932e+01</td>\n",
       "    </tr>\n",
       "    <tr>\n",
       "      <th>min</th>\n",
       "      <td>7.000000e-01</td>\n",
       "    </tr>\n",
       "    <tr>\n",
       "      <th>25%</th>\n",
       "      <td>5.300000e+01</td>\n",
       "    </tr>\n",
       "    <tr>\n",
       "      <th>50%</th>\n",
       "      <td>8.900000e+01</td>\n",
       "    </tr>\n",
       "    <tr>\n",
       "      <th>75%</th>\n",
       "      <td>1.410000e+02</td>\n",
       "    </tr>\n",
       "    <tr>\n",
       "      <th>max</th>\n",
       "      <td>2.202000e+03</td>\n",
       "    </tr>\n",
       "  </tbody>\n",
       "</table>\n",
       "</div>"
      ],
      "text/plain": [
       "        consumption\n",
       "count  1.848947e+06\n",
       "mean   1.018811e+02\n",
       "std    6.286932e+01\n",
       "min    7.000000e-01\n",
       "25%    5.300000e+01\n",
       "50%    8.900000e+01\n",
       "75%    1.410000e+02\n",
       "max    2.202000e+03"
      ]
     },
     "execution_count": 5,
     "metadata": {},
     "output_type": "execute_result"
    }
   ],
   "source": [
    "df.describe()"
   ]
  },
  {
   "cell_type": "markdown",
   "metadata": {},
   "source": [
    "Identifyting missing values, outliers and unique values"
   ]
  },
  {
   "cell_type": "code",
   "execution_count": 6,
   "metadata": {},
   "outputs": [
    {
     "name": "stdout",
     "output_type": "stream",
     "text": [
      "# missing values in 'datetime': 0\n",
      "# missing values in 'substation': 0\n",
      "# missing values in 'feeder': 0\n",
      "# missing values in 'consumption': 50365\n"
     ]
    }
   ],
   "source": [
    "for header in df.columns:\n",
    "    print(f\"# missing values in '{header}': {sum([x for x in df[header].isnull() if x == True])}\")\n"
   ]
  },
  {
   "cell_type": "markdown",
   "metadata": {},
   "source": [
    "# Task 2: Data Cleaning"
   ]
  },
  {
   "cell_type": "markdown",
   "metadata": {},
   "source": [
    "Displaying where the missing values are located in the dataset."
   ]
  },
  {
   "cell_type": "code",
   "execution_count": 194,
   "metadata": {},
   "outputs": [
    {
     "data": {
      "text/plain": [
       "<matplotlib.legend.Legend at 0x25f84aff290>"
      ]
     },
     "execution_count": 194,
     "metadata": {},
     "output_type": "execute_result"
    },
    {
     "data": {
      "image/png": "[encoded data removed]",
      "text/plain": [
       "<Figure size 640x480 with 1 Axes>"
      ]
     },
     "metadata": {},
     "output_type": "display_data"
    }
   ],
   "source": [
    "fig, ax = plt.subplots()\n",
    "\n",
    "humidity_null = df['humidity'].isnull()\n",
    "ax.plot(humidity_null)\n",
    "\n",
    "pressure_null = df['pressure'].isnull()\n",
    "ax.plot(pressure_null)\n",
    "\n",
    "wind_speed_null = df['wind_speed'].isnull()\n",
    "ax.plot(wind_speed_null)\n",
    "\n",
    "ax.legend(['humidity', 'pressure', 'wind_speed'])\n"
   ]
  },
  {
   "cell_type": "markdown",
   "metadata": {},
   "source": [
    "Example of a missing value in humidity"
   ]
  },
  {
   "cell_type": "markdown",
   "metadata": {},
   "source": [
    "We choose to polynomially interpolate between the last known value and the next known, since it creates a nice mean datapoint between the known values. This fits the practical changes happening in the real world when it comes to humidity, wind_speed and pressure. As it follows the trends of both sides of the missing data value.\n"
   ]
  },
  {
   "cell_type": "code",
   "execution_count": 270,
   "metadata": {},
   "outputs": [
    {
     "data": {
      "text/plain": [
       "<Axes: >"
      ]
     },
     "execution_count": 270,
     "metadata": {},
     "output_type": "execute_result"
    },
    {
     "data": {
      "image/png": "[encoded data removed]",
      "text/plain": [
       "<Figure size 640x480 with 1 Axes>"
      ]
     },
     "metadata": {},
     "output_type": "display_data"
    }
   ],
   "source": [
    "humidity_null = df['humidity'].isnull()\n",
    "\n",
    "missing_values = []\n",
    "\n",
    "for x in range(len(humidity_null)):\n",
    "    if humidity_null[x] == True:\n",
    "        missing_values.append(x)\n",
    "        \n",
    "i = 4\n",
    "\n",
    "display_missing = df['humidity'][missing_values[i]-10:missing_values[i]+10]\n",
    "\n",
    "display_missing.plot()\n"
   ]
  },
  {
   "cell_type": "code",
   "execution_count": 272,
   "metadata": {},
   "outputs": [
    {
     "name": "stderr",
     "output_type": "stream",
     "text": [
      "C:\\Users\\sfuij\\AppData\\Local\\Temp\\ipykernel_16916\\2466392453.py:7: FutureWarning: DataFrame.interpolate with object dtype is deprecated and will raise in a future version. Call obj.infer_objects(copy=False) before interpolating instead.\n",
      "  fixed_df_poly2 = df.interpolate(method=\"polynomial\", order=2)\n"
     ]
    },
    {
     "data": {
      "text/plain": [
       "<Axes: >"
      ]
     },
     "execution_count": 272,
     "metadata": {},
     "output_type": "execute_result"
    },
    {
     "data": {
      "image/png": "[encoded data removed]",
      "text/plain": [
       "<Figure size 640x480 with 1 Axes>"
      ]
     },
     "metadata": {},
     "output_type": "display_data"
    }
   ],
   "source": [
    "offset = 10\n",
    "\n",
    "# Har kommentert ut denne fordi den er her kun for å ekspimentere.\n",
    "# fixed_df_linear = df['humidity'].interpolate()\n",
    "# fixed_df_linear[missing_values[i]-offset:missing_values[i]+offset].plot()\n",
    "\n",
    "fixed_df_poly2 = df.interpolate(method=\"polynomial\", order=2)\n",
    "\n",
    "fixed_df_poly2[missing_values[i]-offset:missing_values[i]+offset]['humidity'].plot()"
   ]
  },
  {
   "cell_type": "markdown",
   "metadata": {},
   "source": [
    "# Task 3: Handling outliers"
   ]
  },
  {
   "cell_type": "markdown",
   "metadata": {},
   "source": [
    "Display IQR (Interquartile range), outliers shown by the black circle markers"
   ]
  },
  {
   "cell_type": "code",
   "execution_count": 317,
   "metadata": {},
   "outputs": [
    {
     "data": {
      "text/plain": [
       "[array([57., 12.]),\n",
       " array([ 89.        , 102.59733637]),\n",
       " array([7., 0.]),\n",
       " array([16., 29.]),\n",
       " array([19.4,  8. ]),\n",
       " array([27. , 38.4])]"
      ]
     },
     "execution_count": 317,
     "metadata": {},
     "output_type": "execute_result"
    },
    {
     "data": {
      "image/png": "[encoded data removed]",
      "text/plain": [
       "<Figure size 640x480 with 1 Axes>"
      ]
     },
     "metadata": {},
     "output_type": "display_data"
    }
   ],
   "source": [
    "boxplot, bp = fixed_df_poly2.boxplot(column=['humidity', 'wind_speed', 'temperature'], return_type=\"both\")\n",
    "\n",
    "humidity_min_whisker = bp['whiskers'][0].get_ydata()[1]\n",
    "humidity_max_whisker = bp['whiskers'][1].get_ydata()[1]\n",
    "\n",
    "wind_speed_min_whisker = bp['whiskers'][2].get_ydata()[1]\n",
    "wind_speed_max_whisker = bp['whiskers'][3].get_ydata()[1]\n",
    "\n",
    "temperature_min_whisker = bp['whiskers'][4].get_ydata()[1]\n",
    "temperature_max_whisker = bp['whiskers'][5].get_ydata()[1]\n",
    "\n",
    "[whisker.get_ydata() for whisker in bp['whiskers']]\n"
   ]
  },
  {
   "cell_type": "code",
   "execution_count": 320,
   "metadata": {},
   "outputs": [
    {
     "name": "stderr",
     "output_type": "stream",
     "text": [
      "C:\\Users\\sfuij\\AppData\\Local\\Temp\\ipykernel_16916\\251093493.py:2: UserWarning: Boolean Series key will be reindexed to match DataFrame index.\n",
      "  removed_wind_speed = df[df['wind_speed'] < wind_speed_max_whisker][df['wind_speed'] > wind_speed_min_whisker]\n",
      "C:\\Users\\sfuij\\AppData\\Local\\Temp\\ipykernel_16916\\251093493.py:5: UserWarning: Boolean Series key will be reindexed to match DataFrame index.\n",
      "  removed_humidity = removed_wind_speed[removed_wind_speed['humidity'] < humidity_max_whisker][removed_wind_speed['humidity'] > humidity_min_whisker]\n",
      "C:\\Users\\sfuij\\AppData\\Local\\Temp\\ipykernel_16916\\251093493.py:8: UserWarning: Boolean Series key will be reindexed to match DataFrame index.\n",
      "  removed_temperature = removed_humidity[removed_humidity['temperature'] < temperature_max_whisker][removed_humidity['temperature'] > temperature_min_whisker + 1]\n"
     ]
    }
   ],
   "source": [
    "#Remove wind_speed outliers\n",
    "removed_wind_speed = df[df['wind_speed'] < wind_speed_max_whisker][df['wind_speed'] > wind_speed_min_whisker]\n",
    "\n",
    "# Remove humidity outliers\n",
    "removed_humidity = removed_wind_speed[removed_wind_speed['humidity'] < humidity_max_whisker][removed_wind_speed['humidity'] > humidity_min_whisker]\n",
    "\n",
    "# Remove temperature outliers, må justere grensen med 1 for å ta med outliers som har lik verdi som whiskers ??\n",
    "removed_temperature = removed_humidity[removed_humidity['temperature'] < temperature_max_whisker][removed_humidity['temperature'] > temperature_min_whisker + 1]"
   ]
  },
  {
   "cell_type": "code",
   "execution_count": 321,
   "metadata": {},
   "outputs": [
    {
     "data": {
      "text/plain": [
       "array([56., 14.])"
      ]
     },
     "execution_count": 321,
     "metadata": {},
     "output_type": "execute_result"
    },
    {
     "data": {
      "image/png": "[encoded data removed]",
      "text/plain": [
       "<Figure size 640x480 with 1 Axes>"
      ]
     },
     "metadata": {},
     "output_type": "display_data"
    }
   ],
   "source": [
    "boxplot, bp = removed_temperature.boxplot(column=['humidity', 'wind_speed', 'temperature'], return_type=\"both\")\n",
    "\n",
    "bp['whiskers'][0].get_ydata()"
   ]
  },
  {
   "cell_type": "markdown",
   "metadata": {},
   "source": [
    "# Task 4: Data Transformation"
   ]
  },
  {
   "cell_type": "markdown",
   "metadata": {},
   "source": [
    "From the information we have available about this dataset, the substations are not ordinal and only unique identifiers for the specific substations. We have therefore chosen to apply one-shot encoding to them. Additionally, since the feeders seem like identifiers from information available to us, we've chosen to also apply one-hot encoding to them. This ensures theres no risk of the model assuming false relationships that might have accured if we used label encoding."
   ]
  },
  {
   "cell_type": "code",
   "execution_count": 32,
   "metadata": {},
   "outputs": [
    {
     "data": {
      "text/html": [
       "<div>\n",
       "<style scoped>\n",
       "    .dataframe tbody tr th:only-of-type {\n",
       "        vertical-align: middle;\n",
       "    }\n",
       "\n",
       "    .dataframe tbody tr th {\n",
       "        vertical-align: top;\n",
       "    }\n",
       "\n",
       "    .dataframe thead th {\n",
       "        text-align: right;\n",
       "    }\n",
       "</style>\n",
       "<table border=\"1\" class=\"dataframe\">\n",
       "  <thead>\n",
       "    <tr style=\"text-align: right;\">\n",
       "      <th></th>\n",
       "      <th>datetime</th>\n",
       "      <th>consumption</th>\n",
       "      <th>substation_A</th>\n",
       "      <th>substation_B</th>\n",
       "      <th>substation_C</th>\n",
       "      <th>substation_D</th>\n",
       "      <th>substation_E</th>\n",
       "      <th>substation_F</th>\n",
       "      <th>substation_G</th>\n",
       "      <th>substation_H</th>\n",
       "      <th>...</th>\n",
       "      <th>feeder_M2</th>\n",
       "      <th>feeder_M3</th>\n",
       "      <th>feeder_M4</th>\n",
       "      <th>feeder_M5</th>\n",
       "      <th>feeder_M6</th>\n",
       "      <th>feeder_M7</th>\n",
       "      <th>feeder_N1</th>\n",
       "      <th>feeder_N2</th>\n",
       "      <th>feeder_N3</th>\n",
       "      <th>feeder_N4</th>\n",
       "    </tr>\n",
       "  </thead>\n",
       "  <tbody>\n",
       "    <tr>\n",
       "      <th>0</th>\n",
       "      <td>2017-01-01T00:00:00</td>\n",
       "      <td>NaN</td>\n",
       "      <td>1</td>\n",
       "      <td>0</td>\n",
       "      <td>0</td>\n",
       "      <td>0</td>\n",
       "      <td>0</td>\n",
       "      <td>0</td>\n",
       "      <td>0</td>\n",
       "      <td>0</td>\n",
       "      <td>...</td>\n",
       "      <td>0</td>\n",
       "      <td>0</td>\n",
       "      <td>0</td>\n",
       "      <td>0</td>\n",
       "      <td>0</td>\n",
       "      <td>0</td>\n",
       "      <td>0</td>\n",
       "      <td>0</td>\n",
       "      <td>0</td>\n",
       "      <td>0</td>\n",
       "    </tr>\n",
       "    <tr>\n",
       "      <th>1</th>\n",
       "      <td>2017-01-01T01:00:00</td>\n",
       "      <td>58.0</td>\n",
       "      <td>1</td>\n",
       "      <td>0</td>\n",
       "      <td>0</td>\n",
       "      <td>0</td>\n",
       "      <td>0</td>\n",
       "      <td>0</td>\n",
       "      <td>0</td>\n",
       "      <td>0</td>\n",
       "      <td>...</td>\n",
       "      <td>0</td>\n",
       "      <td>0</td>\n",
       "      <td>0</td>\n",
       "      <td>0</td>\n",
       "      <td>0</td>\n",
       "      <td>0</td>\n",
       "      <td>0</td>\n",
       "      <td>0</td>\n",
       "      <td>0</td>\n",
       "      <td>0</td>\n",
       "    </tr>\n",
       "    <tr>\n",
       "      <th>2</th>\n",
       "      <td>2017-01-01T02:00:00</td>\n",
       "      <td>58.0</td>\n",
       "      <td>1</td>\n",
       "      <td>0</td>\n",
       "      <td>0</td>\n",
       "      <td>0</td>\n",
       "      <td>0</td>\n",
       "      <td>0</td>\n",
       "      <td>0</td>\n",
       "      <td>0</td>\n",
       "      <td>...</td>\n",
       "      <td>0</td>\n",
       "      <td>0</td>\n",
       "      <td>0</td>\n",
       "      <td>0</td>\n",
       "      <td>0</td>\n",
       "      <td>0</td>\n",
       "      <td>0</td>\n",
       "      <td>0</td>\n",
       "      <td>0</td>\n",
       "      <td>0</td>\n",
       "    </tr>\n",
       "    <tr>\n",
       "      <th>3</th>\n",
       "      <td>2017-01-01T03:00:00</td>\n",
       "      <td>58.0</td>\n",
       "      <td>1</td>\n",
       "      <td>0</td>\n",
       "      <td>0</td>\n",
       "      <td>0</td>\n",
       "      <td>0</td>\n",
       "      <td>0</td>\n",
       "      <td>0</td>\n",
       "      <td>0</td>\n",
       "      <td>...</td>\n",
       "      <td>0</td>\n",
       "      <td>0</td>\n",
       "      <td>0</td>\n",
       "      <td>0</td>\n",
       "      <td>0</td>\n",
       "      <td>0</td>\n",
       "      <td>0</td>\n",
       "      <td>0</td>\n",
       "      <td>0</td>\n",
       "      <td>0</td>\n",
       "    </tr>\n",
       "    <tr>\n",
       "      <th>4</th>\n",
       "      <td>2017-01-01T04:00:00</td>\n",
       "      <td>52.0</td>\n",
       "      <td>1</td>\n",
       "      <td>0</td>\n",
       "      <td>0</td>\n",
       "      <td>0</td>\n",
       "      <td>0</td>\n",
       "      <td>0</td>\n",
       "      <td>0</td>\n",
       "      <td>0</td>\n",
       "      <td>...</td>\n",
       "      <td>0</td>\n",
       "      <td>0</td>\n",
       "      <td>0</td>\n",
       "      <td>0</td>\n",
       "      <td>0</td>\n",
       "      <td>0</td>\n",
       "      <td>0</td>\n",
       "      <td>0</td>\n",
       "      <td>0</td>\n",
       "      <td>0</td>\n",
       "    </tr>\n",
       "  </tbody>\n",
       "</table>\n",
       "<p>5 rows × 71 columns</p>\n",
       "</div>"
      ],
      "text/plain": [
       "              datetime  consumption  substation_A  substation_B  substation_C  \\\n",
       "0  2017-01-01T00:00:00          NaN             1             0             0   \n",
       "1  2017-01-01T01:00:00         58.0             1             0             0   \n",
       "2  2017-01-01T02:00:00         58.0             1             0             0   \n",
       "3  2017-01-01T03:00:00         58.0             1             0             0   \n",
       "4  2017-01-01T04:00:00         52.0             1             0             0   \n",
       "\n",
       "   substation_D  substation_E  substation_F  substation_G  substation_H  ...  \\\n",
       "0             0             0             0             0             0  ...   \n",
       "1             0             0             0             0             0  ...   \n",
       "2             0             0             0             0             0  ...   \n",
       "3             0             0             0             0             0  ...   \n",
       "4             0             0             0             0             0  ...   \n",
       "\n",
       "   feeder_M2  feeder_M3  feeder_M4  feeder_M5  feeder_M6  feeder_M7  \\\n",
       "0          0          0          0          0          0          0   \n",
       "1          0          0          0          0          0          0   \n",
       "2          0          0          0          0          0          0   \n",
       "3          0          0          0          0          0          0   \n",
       "4          0          0          0          0          0          0   \n",
       "\n",
       "   feeder_N1  feeder_N2  feeder_N3  feeder_N4  \n",
       "0          0          0          0          0  \n",
       "1          0          0          0          0  \n",
       "2          0          0          0          0  \n",
       "3          0          0          0          0  \n",
       "4          0          0          0          0  \n",
       "\n",
       "[5 rows x 71 columns]"
      ]
     },
     "execution_count": 32,
     "metadata": {},
     "output_type": "execute_result"
    }
   ],
   "source": [
    "# Categorical columns to encode\n",
    "categorical_columns = ['substation', 'feeder']\n",
    "\n",
    "# Encode categorical columns\n",
    "df_encoded = pd.get_dummies(df, columns=categorical_columns, dtype='int')\n",
    "\n",
    "# Display the first few rows of the encoded dataframe\n",
    "df_encoded.head()"
   ]
  },
  {
   "cell_type": "markdown",
   "metadata": {},
   "source": [
    "Since we don't have a way of knowing the lower and upper bounds of this dataset, since the consumption can easily get higher than our highest datapoint, we've chosen to use Z-score normalization. This ensures that future datapoints dont get cutoff to already predetermined bounds."
   ]
  },
  {
   "cell_type": "code",
   "execution_count": 27,
   "metadata": {},
   "outputs": [
    {
     "data": {
      "text/html": [
       "<div>\n",
       "<style scoped>\n",
       "    .dataframe tbody tr th:only-of-type {\n",
       "        vertical-align: middle;\n",
       "    }\n",
       "\n",
       "    .dataframe tbody tr th {\n",
       "        vertical-align: top;\n",
       "    }\n",
       "\n",
       "    .dataframe thead th {\n",
       "        text-align: right;\n",
       "    }\n",
       "</style>\n",
       "<table border=\"1\" class=\"dataframe\">\n",
       "  <thead>\n",
       "    <tr style=\"text-align: right;\">\n",
       "      <th></th>\n",
       "      <th>datetime</th>\n",
       "      <th>consumption</th>\n",
       "      <th>substation_A</th>\n",
       "      <th>substation_B</th>\n",
       "      <th>substation_C</th>\n",
       "      <th>substation_D</th>\n",
       "      <th>substation_E</th>\n",
       "      <th>substation_F</th>\n",
       "      <th>substation_G</th>\n",
       "      <th>substation_H</th>\n",
       "      <th>...</th>\n",
       "      <th>feeder_M2</th>\n",
       "      <th>feeder_M3</th>\n",
       "      <th>feeder_M4</th>\n",
       "      <th>feeder_M5</th>\n",
       "      <th>feeder_M6</th>\n",
       "      <th>feeder_M7</th>\n",
       "      <th>feeder_N1</th>\n",
       "      <th>feeder_N2</th>\n",
       "      <th>feeder_N3</th>\n",
       "      <th>feeder_N4</th>\n",
       "    </tr>\n",
       "  </thead>\n",
       "  <tbody>\n",
       "    <tr>\n",
       "      <th>0</th>\n",
       "      <td>2017-01-01T00:00:00</td>\n",
       "      <td>NaN</td>\n",
       "      <td>1</td>\n",
       "      <td>0</td>\n",
       "      <td>0</td>\n",
       "      <td>0</td>\n",
       "      <td>0</td>\n",
       "      <td>0</td>\n",
       "      <td>0</td>\n",
       "      <td>0</td>\n",
       "      <td>...</td>\n",
       "      <td>0</td>\n",
       "      <td>0</td>\n",
       "      <td>0</td>\n",
       "      <td>0</td>\n",
       "      <td>0</td>\n",
       "      <td>0</td>\n",
       "      <td>0</td>\n",
       "      <td>0</td>\n",
       "      <td>0</td>\n",
       "      <td>0</td>\n",
       "    </tr>\n",
       "    <tr>\n",
       "      <th>1</th>\n",
       "      <td>2017-01-01T01:00:00</td>\n",
       "      <td>-0.697974</td>\n",
       "      <td>1</td>\n",
       "      <td>0</td>\n",
       "      <td>0</td>\n",
       "      <td>0</td>\n",
       "      <td>0</td>\n",
       "      <td>0</td>\n",
       "      <td>0</td>\n",
       "      <td>0</td>\n",
       "      <td>...</td>\n",
       "      <td>0</td>\n",
       "      <td>0</td>\n",
       "      <td>0</td>\n",
       "      <td>0</td>\n",
       "      <td>0</td>\n",
       "      <td>0</td>\n",
       "      <td>0</td>\n",
       "      <td>0</td>\n",
       "      <td>0</td>\n",
       "      <td>0</td>\n",
       "    </tr>\n",
       "    <tr>\n",
       "      <th>2</th>\n",
       "      <td>2017-01-01T02:00:00</td>\n",
       "      <td>-0.697974</td>\n",
       "      <td>1</td>\n",
       "      <td>0</td>\n",
       "      <td>0</td>\n",
       "      <td>0</td>\n",
       "      <td>0</td>\n",
       "      <td>0</td>\n",
       "      <td>0</td>\n",
       "      <td>0</td>\n",
       "      <td>...</td>\n",
       "      <td>0</td>\n",
       "      <td>0</td>\n",
       "      <td>0</td>\n",
       "      <td>0</td>\n",
       "      <td>0</td>\n",
       "      <td>0</td>\n",
       "      <td>0</td>\n",
       "      <td>0</td>\n",
       "      <td>0</td>\n",
       "      <td>0</td>\n",
       "    </tr>\n",
       "    <tr>\n",
       "      <th>3</th>\n",
       "      <td>2017-01-01T03:00:00</td>\n",
       "      <td>-0.697974</td>\n",
       "      <td>1</td>\n",
       "      <td>0</td>\n",
       "      <td>0</td>\n",
       "      <td>0</td>\n",
       "      <td>0</td>\n",
       "      <td>0</td>\n",
       "      <td>0</td>\n",
       "      <td>0</td>\n",
       "      <td>...</td>\n",
       "      <td>0</td>\n",
       "      <td>0</td>\n",
       "      <td>0</td>\n",
       "      <td>0</td>\n",
       "      <td>0</td>\n",
       "      <td>0</td>\n",
       "      <td>0</td>\n",
       "      <td>0</td>\n",
       "      <td>0</td>\n",
       "      <td>0</td>\n",
       "    </tr>\n",
       "    <tr>\n",
       "      <th>4</th>\n",
       "      <td>2017-01-01T04:00:00</td>\n",
       "      <td>-0.793410</td>\n",
       "      <td>1</td>\n",
       "      <td>0</td>\n",
       "      <td>0</td>\n",
       "      <td>0</td>\n",
       "      <td>0</td>\n",
       "      <td>0</td>\n",
       "      <td>0</td>\n",
       "      <td>0</td>\n",
       "      <td>...</td>\n",
       "      <td>0</td>\n",
       "      <td>0</td>\n",
       "      <td>0</td>\n",
       "      <td>0</td>\n",
       "      <td>0</td>\n",
       "      <td>0</td>\n",
       "      <td>0</td>\n",
       "      <td>0</td>\n",
       "      <td>0</td>\n",
       "      <td>0</td>\n",
       "    </tr>\n",
       "  </tbody>\n",
       "</table>\n",
       "<p>5 rows × 71 columns</p>\n",
       "</div>"
      ],
      "text/plain": [
       "              datetime  consumption  substation_A  substation_B  substation_C  \\\n",
       "0  2017-01-01T00:00:00          NaN             1             0             0   \n",
       "1  2017-01-01T01:00:00    -0.697974             1             0             0   \n",
       "2  2017-01-01T02:00:00    -0.697974             1             0             0   \n",
       "3  2017-01-01T03:00:00    -0.697974             1             0             0   \n",
       "4  2017-01-01T04:00:00    -0.793410             1             0             0   \n",
       "\n",
       "   substation_D  substation_E  substation_F  substation_G  substation_H  ...  \\\n",
       "0             0             0             0             0             0  ...   \n",
       "1             0             0             0             0             0  ...   \n",
       "2             0             0             0             0             0  ...   \n",
       "3             0             0             0             0             0  ...   \n",
       "4             0             0             0             0             0  ...   \n",
       "\n",
       "   feeder_M2  feeder_M3  feeder_M4  feeder_M5  feeder_M6  feeder_M7  \\\n",
       "0          0          0          0          0          0          0   \n",
       "1          0          0          0          0          0          0   \n",
       "2          0          0          0          0          0          0   \n",
       "3          0          0          0          0          0          0   \n",
       "4          0          0          0          0          0          0   \n",
       "\n",
       "   feeder_N1  feeder_N2  feeder_N3  feeder_N4  \n",
       "0          0          0          0          0  \n",
       "1          0          0          0          0  \n",
       "2          0          0          0          0  \n",
       "3          0          0          0          0  \n",
       "4          0          0          0          0  \n",
       "\n",
       "[5 rows x 71 columns]"
      ]
     },
     "execution_count": 27,
     "metadata": {},
     "output_type": "execute_result"
    }
   ],
   "source": [
    "#Select numerical columns\n",
    "numerical_columns = ['consumption']\n",
    "\n",
    "#Initialize StandardScaler\n",
    "scaler = StandardScaler()\n",
    "\n",
    "#Normalize numerical columns\n",
    "df_encoded[numerical_columns] = scaler.fit_transform(df_encoded[numerical_columns])\n",
    "\n",
    "df_encoded.head()"
   ]
  },
  {
   "cell_type": "markdown",
   "metadata": {},
   "source": [
    "Feature scaling is necessary to use because it ensures faster convergence and prevents feature dominance. With scaled features, algorithms also perform better and lead to more accurate models."
   ]
  }
 ],
 "metadata": {
  "kernelspec": {
   "display_name": ".venv",
   "language": "python",
   "name": "python3"
  },
  "language_info": {
   "codemirror_mode": {
    "name": "ipython",
    "version": 3
   },
   "file_extension": ".py",
   "mimetype": "text/x-python",
   "name": "python",
   "nbconvert_exporter": "python",
   "pygments_lexer": "ipython3",
   "version": "3.12.0"
  }
 },
 "nbformat": 4,
 "nbformat_minor": 2
}
